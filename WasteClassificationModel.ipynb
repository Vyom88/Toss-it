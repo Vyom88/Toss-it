{
  "cells": [
    {
      "cell_type": "markdown",
      "metadata": {
        "id": "view-in-github",
        "colab_type": "text"
      },
      "source": [
        "<a href=\"https://colab.research.google.com/github/Vyom88/Toss-it/blob/main/WasteClassificationModel.ipynb\" target=\"_parent\"><img src=\"https://colab.research.google.com/assets/colab-badge.svg\" alt=\"Open In Colab\"/></a>"
      ]
    },
    {
      "cell_type": "code",
      "execution_count": null,
      "metadata": {
        "colab": {
          "base_uri": "https://localhost:8080/"
        },
        "id": "hKMOYOGA3wIy",
        "outputId": "0d81da00-3eda-45f3-a8a6-ac5348a8cf77"
      },
      "outputs": [
        {
          "name": "stdout",
          "output_type": "stream",
          "text": [
            "Drive already mounted at /content/drive; to attempt to forcibly remount, call drive.mount(\"/content/drive\", force_remount=True).\n"
          ]
        }
      ],
      "source": [
        "import keras,os\n",
        "from tensorflow.keras.models import Sequential\n",
        "from tensorflow.keras.layers import Dense, Conv2D, MaxPool2D , Flatten\n",
        "from tensorflow.keras.preprocessing import image\n",
        "from tensorflow.keras.preprocessing.image import ImageDataGenerator\n",
        "import numpy as np\n",
        "from tensorflow.keras.models import Model\n",
        "from tensorflow.keras import layers, models\n",
        "from tensorflow.keras.callbacks import ModelCheckpoint, EarlyStopping\n",
        "import matplotlib.pyplot as plt\n",
        "import cv2\n",
        "from google.colab import drive\n",
        "drive.mount('/content/drive')\n",
        "\n",
        "from keras.applications.vgg16 import VGG16, preprocess_input, decode_predictions"
      ]
    },
    {
      "cell_type": "code",
      "execution_count": null,
      "metadata": {
        "id": "BqIGQM_i4rN5"
      },
      "outputs": [],
      "source": [
        "vgg_model = VGG16(weights='imagenet', include_top=False, input_shape=(224, 224, 3))"
      ]
    },
    {
      "cell_type": "code",
      "execution_count": null,
      "metadata": {
        "colab": {
          "base_uri": "https://localhost:8080/"
        },
        "id": "WNQ8R5SNqHUm",
        "outputId": "76c105ed-b818-4a5f-98cc-d72735e28416"
      },
      "outputs": [
        {
          "data": {
            "text/plain": [
              "<KerasTensor: shape=(None, 224, 224, 3) dtype=float32 (created by layer 'input_1')>"
            ]
          },
          "execution_count": 4,
          "metadata": {},
          "output_type": "execute_result"
        }
      ],
      "source": [
        "vgg_model.input"
      ]
    },
    {
      "cell_type": "code",
      "execution_count": null,
      "metadata": {
        "colab": {
          "base_uri": "https://localhost:8080/"
        },
        "id": "H0GPgfeC6VGL",
        "outputId": "e061f392-05f9-451a-b466-5359da417d55"
      },
      "outputs": [
        {
          "name": "stdout",
          "output_type": "stream",
          "text": [
            "Found 24624 images belonging to 3 classes.\n",
            "Found 6152 images belonging to 3 classes.\n"
          ]
        }
      ],
      "source": [
        "#Get Data\n",
        "trdata = ImageDataGenerator()\n",
        "traindata = trdata.flow_from_directory(\n",
        "    directory='/content/drive/MyDrive/Data/Train', target_size=(224, 224), class_mode=\"categorical\") # CHANGE BATCH SIZE\n",
        "\n",
        "tsdata = ImageDataGenerator()\n",
        "testdata = tsdata.flow_from_directory(directory='/content/drive/MyDrive/Data/Test', target_size=(\n",
        "    224, 224), class_mode=\"categorical\")  # CHANGE BATCH SIZE"
      ]
    },
    {
      "cell_type": "code",
      "execution_count": null,
      "metadata": {
        "id": "iVEtAjX6q4--"
      },
      "outputs": [],
      "source": [
        ""
      ]
    },
    {
      "cell_type": "code",
      "execution_count": null,
      "metadata": {
        "id": "eFtJ5aDwlOwp"
      },
      "outputs": [],
      "source": []
    },
    {
      "cell_type": "code",
      "execution_count": null,
      "metadata": {
        "colab": {
          "base_uri": "https://localhost:8080/"
        },
        "id": "sNYynJlO4tQB",
        "outputId": "86131886-c3bd-40ba-8eb9-48fe2e96b68c"
      },
      "outputs": [
        {
          "name": "stdout",
          "output_type": "stream",
          "text": [
            "0 input_1 False\n",
            "1 block1_conv1 False\n",
            "2 block1_conv2 False\n",
            "3 block1_pool False\n",
            "4 block2_conv1 False\n",
            "5 block2_conv2 False\n",
            "6 block2_pool False\n",
            "7 block3_conv1 False\n",
            "8 block3_conv2 False\n",
            "9 block3_conv3 False\n",
            "10 block3_pool False\n",
            "11 block4_conv1 False\n",
            "12 block4_conv2 False\n",
            "13 block4_conv3 False\n",
            "14 block4_pool False\n",
            "15 block5_conv1 False\n",
            "16 block5_conv2 False\n",
            "17 block5_conv3 False\n",
            "18 block5_pool False\n"
          ]
        }
      ],
      "source": [
        "# Freeze four convolution blocks\n",
        "for layer in vgg_model.layers:\n",
        "    layer.trainable = False\n",
        "# Make sure you have frozen the correct layers\n",
        "for i, layer in enumerate(vgg_model.layers):\n",
        "    print(i, layer.name, layer.trainable)"
      ]
    },
    {
      "cell_type": "code",
      "execution_count": null,
      "metadata": {
        "colab": {
          "base_uri": "https://localhost:8080/"
        },
        "id": "2lLQ703eq6Iz",
        "outputId": "79f1666e-08e6-4c69-98e1-7736675649f8"
      },
      "outputs": [
        {
          "name": "stdout",
          "output_type": "stream",
          "text": [
            "Model: \"model\"\n",
            "_________________________________________________________________\n",
            " Layer (type)                Output Shape              Param #   \n",
            "=================================================================\n",
            " input_1 (InputLayer)        [(None, 224, 224, 3)]     0         \n",
            "                                                                 \n",
            " block1_conv1 (Conv2D)       (None, 224, 224, 64)      1792      \n",
            "                                                                 \n",
            " block1_conv2 (Conv2D)       (None, 224, 224, 64)      36928     \n",
            "                                                                 \n",
            " block1_pool (MaxPooling2D)  (None, 112, 112, 64)      0         \n",
            "                                                                 \n",
            " block2_conv1 (Conv2D)       (None, 112, 112, 128)     73856     \n",
            "                                                                 \n",
            " block2_conv2 (Conv2D)       (None, 112, 112, 128)     147584    \n",
            "                                                                 \n",
            " block2_pool (MaxPooling2D)  (None, 56, 56, 128)       0         \n",
            "                                                                 \n",
            " block3_conv1 (Conv2D)       (None, 56, 56, 256)       295168    \n",
            "                                                                 \n",
            " block3_conv2 (Conv2D)       (None, 56, 56, 256)       590080    \n",
            "                                                                 \n",
            " block3_conv3 (Conv2D)       (None, 56, 56, 256)       590080    \n",
            "                                                                 \n",
            " block3_pool (MaxPooling2D)  (None, 28, 28, 256)       0         \n",
            "                                                                 \n",
            " block4_conv1 (Conv2D)       (None, 28, 28, 512)       1180160   \n",
            "                                                                 \n",
            " block4_conv2 (Conv2D)       (None, 28, 28, 512)       2359808   \n",
            "                                                                 \n",
            " block4_conv3 (Conv2D)       (None, 28, 28, 512)       2359808   \n",
            "                                                                 \n",
            " block4_pool (MaxPooling2D)  (None, 14, 14, 512)       0         \n",
            "                                                                 \n",
            " block5_conv1 (Conv2D)       (None, 14, 14, 512)       2359808   \n",
            "                                                                 \n",
            " block5_conv2 (Conv2D)       (None, 14, 14, 512)       2359808   \n",
            "                                                                 \n",
            " block5_conv3 (Conv2D)       (None, 14, 14, 512)       2359808   \n",
            "                                                                 \n",
            " block5_pool (MaxPooling2D)  (None, 7, 7, 512)         0         \n",
            "                                                                 \n",
            " flatten_1 (Flatten)         (None, 25088)             0         \n",
            "                                                                 \n",
            " dense (Dense)               (None, 3)                 75267     \n",
            "                                                                 \n",
            "=================================================================\n",
            "Total params: 14,789,955\n",
            "Trainable params: 75,267\n",
            "Non-trainable params: 14,714,688\n",
            "_________________________________________________________________\n"
          ]
        }
      ],
      "source": [
        "x = Flatten()(vgg_model.output)\n",
        "prediction = Dense(3, activation='softmax')(x)\n",
        "model = Model(inputs=vgg_model.input, outputs=prediction)\n",
        "model.summary()"
      ]
    },
    {
      "cell_type": "code",
      "execution_count": null,
      "metadata": {
        "id": "KTzbiZIErB2m"
      },
      "outputs": [],
      "source": []
    },
    {
      "cell_type": "code",
      "execution_count": null,
      "metadata": {
        "colab": {
          "base_uri": "https://localhost:8080/"
        },
        "id": "5aKU3nQk5tXG",
        "outputId": "991c7f8b-c2ed-42bb-aea7-d278d78d1451"
      },
      "outputs": [
        {
          "name": "stdout",
          "output_type": "stream",
          "text": [
            "Model: \"sequential\"\n",
            "_________________________________________________________________\n",
            " Layer (type)                Output Shape              Param #   \n",
            "=================================================================\n",
            " vgg16 (Functional)          (None, 7, 7, 512)         14714688  \n",
            "                                                                 \n",
            " flatten_1 (Flatten)         (None, 25088)             0         \n",
            "                                                                 \n",
            " dense_1 (Dense)             (None, 50)                1254450   \n",
            "                                                                 \n",
            " dense_2 (Dense)             (None, 20)                1020      \n",
            "                                                                 \n",
            " dense_3 (Dense)             (None, 3)                 63        \n",
            "                                                                 \n",
            "=================================================================\n",
            "Total params: 15,970,221\n",
            "Trainable params: 1,255,533\n",
            "Non-trainable params: 14,714,688\n",
            "_________________________________________________________________\n"
          ]
        }
      ],
      "source": [
        "#Add layers to train for our specific use-case\n",
        "flatten_layer = layers.Flatten()\n",
        "dense_layer_1 = layers.Dense(50, activation='relu')\n",
        "dense_layer_2 = layers.Dense(20, activation='relu')\n",
        "prediction_layer = layers.Dense(3, activation='softmax')\n",
        "\n",
        "\n",
        "model = models.Sequential([\n",
        "    vgg_model,\n",
        "    flatten_layer,\n",
        "    dense_layer_1,\n",
        "    dense_layer_2,\n",
        "    prediction_layer\n",
        "])\n",
        "\n",
        "model.summary()"
      ]
    },
    {
      "cell_type": "code",
      "execution_count": null,
      "metadata": {
        "colab": {
          "background_save": true,
          "base_uri": "https://localhost:8080/"
        },
        "id": "Aka51wj-5zM8",
        "outputId": "4bf8860e-4358-47cc-8c00-016a79e0aa67"
      },
      "outputs": [
        {
          "name": "stdout",
          "output_type": "stream",
          "text": [
            "Epoch 1/50\n",
            "10/10 [==============================] - ETA: 0s - loss: 9.8793 - accuracy: 0.6656  \n",
            "Epoch 1: val_accuracy improved from -inf to 0.75313, saving model to /content/drive/MyDrive/Data/Model/model.h5\n",
            "10/10 [==============================] - 337s 35s/step - loss: 9.8793 - accuracy: 0.6656 - val_loss: 8.7937 - val_accuracy: 0.7531\n",
            "Epoch 2/50\n",
            "10/10 [==============================] - ETA: 0s - loss: 7.7307 - accuracy: 0.7719 \n",
            "Epoch 2: val_accuracy improved from 0.75313 to 0.75937, saving model to /content/drive/MyDrive/Data/Model/model.h5\n",
            "10/10 [==============================] - 302s 31s/step - loss: 7.7307 - accuracy: 0.7719 - val_loss: 9.2394 - val_accuracy: 0.7594\n",
            "Epoch 3/50\n",
            "10/10 [==============================] - ETA: 0s - loss: 8.2429 - accuracy: 0.7844 \n",
            "Epoch 3: val_accuracy did not improve from 0.75937\n",
            "10/10 [==============================] - 299s 31s/step - loss: 8.2429 - accuracy: 0.7844 - val_loss: 6.9546 - val_accuracy: 0.7594\n",
            "Epoch 4/50\n",
            "10/10 [==============================] - ETA: 0s - loss: 8.8428 - accuracy: 0.7437 \n",
            "Epoch 4: val_accuracy improved from 0.75937 to 0.79062, saving model to /content/drive/MyDrive/Data/Model/model.h5\n",
            "10/10 [==============================] - 299s 31s/step - loss: 8.8428 - accuracy: 0.7437 - val_loss: 6.7317 - val_accuracy: 0.7906\n",
            "Epoch 5/50\n",
            "10/10 [==============================] - ETA: 0s - loss: 7.0090 - accuracy: 0.7937 \n",
            "Epoch 5: val_accuracy improved from 0.79062 to 0.81250, saving model to /content/drive/MyDrive/Data/Model/model.h5\n",
            "10/10 [==============================] - 297s 31s/step - loss: 7.0090 - accuracy: 0.7937 - val_loss: 8.1514 - val_accuracy: 0.8125\n",
            "Epoch 6/50\n",
            "10/10 [==============================] - ETA: 0s - loss: 9.9461 - accuracy: 0.7937 \n",
            "Epoch 6: val_accuracy did not improve from 0.81250\n",
            "10/10 [==============================] - 299s 31s/step - loss: 9.9461 - accuracy: 0.7937 - val_loss: 8.1021 - val_accuracy: 0.7781\n",
            "Epoch 7/50\n",
            "10/10 [==============================] - ETA: 0s - loss: 6.9145 - accuracy: 0.8156 \n",
            "Epoch 7: val_accuracy did not improve from 0.81250\n",
            "10/10 [==============================] - 295s 30s/step - loss: 6.9145 - accuracy: 0.8156 - val_loss: 8.3286 - val_accuracy: 0.7750\n",
            "Epoch 8/50\n",
            "10/10 [==============================] - ETA: 0s - loss: 7.7222 - accuracy: 0.8125 \n",
            "Epoch 8: val_accuracy did not improve from 0.81250\n",
            "10/10 [==============================] - 295s 30s/step - loss: 7.7222 - accuracy: 0.8125 - val_loss: 7.2538 - val_accuracy: 0.8000\n",
            "Epoch 9/50\n",
            "10/10 [==============================] - ETA: 0s - loss: 5.2534 - accuracy: 0.8562 \n",
            "Epoch 9: val_accuracy improved from 0.81250 to 0.85000, saving model to /content/drive/MyDrive/Data/Model/model.h5\n",
            "10/10 [==============================] - 297s 31s/step - loss: 5.2534 - accuracy: 0.8562 - val_loss: 6.0570 - val_accuracy: 0.8500\n",
            "Epoch 10/50\n",
            "10/10 [==============================] - ETA: 0s - loss: 6.6997 - accuracy: 0.8094 \n",
            "Epoch 10: val_accuracy did not improve from 0.85000\n",
            "10/10 [==============================] - 295s 30s/step - loss: 6.6997 - accuracy: 0.8094 - val_loss: 7.4813 - val_accuracy: 0.8188\n",
            "Epoch 11/50\n",
            "10/10 [==============================] - ETA: 0s - loss: 8.0793 - accuracy: 0.8250 \n",
            "Epoch 11: val_accuracy did not improve from 0.85000\n",
            "10/10 [==============================] - 297s 31s/step - loss: 8.0793 - accuracy: 0.8250 - val_loss: 6.4614 - val_accuracy: 0.8000\n",
            "Epoch 12/50\n",
            "10/10 [==============================] - ETA: 0s - loss: 8.1080 - accuracy: 0.8125 \n",
            "Epoch 12: val_accuracy did not improve from 0.85000\n",
            "10/10 [==============================] - 296s 31s/step - loss: 8.1080 - accuracy: 0.8125 - val_loss: 8.4780 - val_accuracy: 0.8062\n",
            "Epoch 13/50\n",
            "10/10 [==============================] - ETA: 0s - loss: 6.9210 - accuracy: 0.8250 \n",
            "Epoch 13: val_accuracy did not improve from 0.85000\n",
            "10/10 [==============================] - 292s 30s/step - loss: 6.9210 - accuracy: 0.8250 - val_loss: 8.9045 - val_accuracy: 0.8438\n",
            "Epoch 14/50\n",
            "10/10 [==============================] - ETA: 0s - loss: 6.9703 - accuracy: 0.8281 \n",
            "Epoch 14: val_accuracy did not improve from 0.85000\n",
            "10/10 [==============================] - 296s 30s/step - loss: 6.9703 - accuracy: 0.8281 - val_loss: 7.8780 - val_accuracy: 0.8156\n",
            "Epoch 15/50\n",
            "10/10 [==============================] - ETA: 0s - loss: 6.1774 - accuracy: 0.8438 \n",
            "Epoch 15: val_accuracy did not improve from 0.85000\n",
            "10/10 [==============================] - 291s 30s/step - loss: 6.1774 - accuracy: 0.8438 - val_loss: 6.5539 - val_accuracy: 0.8344\n",
            "Epoch 16/50\n",
            "10/10 [==============================] - ETA: 0s - loss: 6.4859 - accuracy: 0.8375 \n",
            "Epoch 16: val_accuracy did not improve from 0.85000\n",
            "10/10 [==============================] - 294s 30s/step - loss: 6.4859 - accuracy: 0.8375 - val_loss: 7.6365 - val_accuracy: 0.8125\n",
            "Epoch 17/50\n",
            "10/10 [==============================] - ETA: 0s - loss: 7.3753 - accuracy: 0.8375 \n",
            "Epoch 17: val_accuracy did not improve from 0.85000\n",
            "10/10 [==============================] - 292s 30s/step - loss: 7.3753 - accuracy: 0.8375 - val_loss: 9.5566 - val_accuracy: 0.8094\n"
          ]
        },
        {
          "data": {
            "text/plain": [
              "<keras.callbacks.History at 0x7fee7f8785d0>"
            ]
          },
          "execution_count": null,
          "metadata": {},
          "output_type": "execute_result"
        }
      ],
      "source": [
        "model.compile(\n",
        "    optimizer='adam',\n",
        "    loss='categorical_crossentropy',\n",
        "    metrics=['accuracy'],\n",
        ")\n",
        "\n",
        "checkpoint = ModelCheckpoint(\"/content/drive/MyDrive/Data/Model/model.h5\", monitor='val_accuracy', verbose=1,\n",
        "                             save_best_only=True, save_weights_only=False,\n",
        "                             mode='auto',\n",
        "                             #period=1\n",
        "                             )\n",
        "\n",
        "es = EarlyStopping(monitor='val_accuracy', mode='max', patience=8,  restore_best_weights=True)\n",
        "\n",
        "model.fit(x = traindata,\n",
        "          validation_data = testdata,\n",
        "          epochs=50,\n",
        "          batch_size=32,\n",
        "          steps_per_epoch=10,\n",
        "          validation_steps=10,\n",
        "          callbacks=[es, checkpoint])"
      ]
    },
    {
      "cell_type": "code",
      "execution_count": null,
      "metadata": {
        "id": "CBlB7eHmLNFx"
      },
      "outputs": [],
      "source": [
        "model.compile(\n",
        "    optimizer='adam',\n",
        "    loss='categorical_crossentropy',\n",
        "    metrics=['accuracy'],\n",
        ")\n",
        "\n",
        "\n",
        "es = EarlyStopping(monitor='val_accuracy', mode='max', patience=5,  restore_best_weights=True)\n",
        "\n",
        "model.fit(x = traindata,\n",
        "          validation_data = testdata,\n",
        "          epochs=10,\n",
        "          batch_size=32,\n",
        "          callbacks=[es])"
      ]
    },
    {
      "cell_type": "code",
      "execution_count": null,
      "metadata": {
        "id": "BS_tHseha1zk"
      },
      "outputs": [],
      "source": [
        "#LOADING AND COMPILING TRAINED MODEL\n",
        "trained_model = models.load_model('/content/drive/MyDrive/model.h5')\n",
        "trained_model.compile(optimizer='adam',\n",
        "    loss='categorical_crossentropy',\n",
        "    metrics=['accuracy'],)"
      ]
    },
    {
      "cell_type": "code",
      "execution_count": null,
      "metadata": {
        "colab": {
          "base_uri": "https://localhost:8080/"
        },
        "id": "ehcihIXzdYqR",
        "outputId": "b879d14b-e329-41da-cc71-8801a702064b"
      },
      "outputs": [
        {
          "name": "stdout",
          "output_type": "stream",
          "text": [
            "Model: \"model\"\n",
            "_________________________________________________________________\n",
            " Layer (type)                Output Shape              Param #   \n",
            "=================================================================\n",
            " input_1 (InputLayer)        [(None, 224, 224, 3)]     0         \n",
            "                                                                 \n",
            " block1_conv1 (Conv2D)       (None, 224, 224, 64)      1792      \n",
            "                                                                 \n",
            " block1_conv2 (Conv2D)       (None, 224, 224, 64)      36928     \n",
            "                                                                 \n",
            " block1_pool (MaxPooling2D)  (None, 112, 112, 64)      0         \n",
            "                                                                 \n",
            " block2_conv1 (Conv2D)       (None, 112, 112, 128)     73856     \n",
            "                                                                 \n",
            " block2_conv2 (Conv2D)       (None, 112, 112, 128)     147584    \n",
            "                                                                 \n",
            " block2_pool (MaxPooling2D)  (None, 56, 56, 128)       0         \n",
            "                                                                 \n",
            " block3_conv1 (Conv2D)       (None, 56, 56, 256)       295168    \n",
            "                                                                 \n",
            " block3_conv2 (Conv2D)       (None, 56, 56, 256)       590080    \n",
            "                                                                 \n",
            " block3_conv3 (Conv2D)       (None, 56, 56, 256)       590080    \n",
            "                                                                 \n",
            " block3_pool (MaxPooling2D)  (None, 28, 28, 256)       0         \n",
            "                                                                 \n",
            " block4_conv1 (Conv2D)       (None, 28, 28, 512)       1180160   \n",
            "                                                                 \n",
            " block4_conv2 (Conv2D)       (None, 28, 28, 512)       2359808   \n",
            "                                                                 \n",
            " block4_conv3 (Conv2D)       (None, 28, 28, 512)       2359808   \n",
            "                                                                 \n",
            " block4_pool (MaxPooling2D)  (None, 14, 14, 512)       0         \n",
            "                                                                 \n",
            " block5_conv1 (Conv2D)       (None, 14, 14, 512)       2359808   \n",
            "                                                                 \n",
            " block5_conv2 (Conv2D)       (None, 14, 14, 512)       2359808   \n",
            "                                                                 \n",
            " block5_conv3 (Conv2D)       (None, 14, 14, 512)       2359808   \n",
            "                                                                 \n",
            " block5_pool (MaxPooling2D)  (None, 7, 7, 512)         0         \n",
            "                                                                 \n",
            " flatten (Flatten)           (None, 25088)             0         \n",
            "                                                                 \n",
            " dense (Dense)               (None, 3)                 75267     \n",
            "                                                                 \n",
            "=================================================================\n",
            "Total params: 14,789,955\n",
            "Trainable params: 75,267\n",
            "Non-trainable params: 14,714,688\n",
            "_________________________________________________________________\n",
            "None\n"
          ]
        }
      ],
      "source": [
        "print(trained_model.summary())"
      ]
    },
    {
      "cell_type": "code",
      "execution_count": null,
      "metadata": {
        "id": "CX7pPilVoeeu"
      },
      "outputs": [],
      "source": [
        "img_path = \"/content/drive/MyDrive/Data/Test/R/R_14859.jpg\"\n",
        "classes = ['Recycling', \"Organic\", \"Garbage\"]\n",
        "def load_image(img_path, show=False):\n",
        "\n",
        "    img = image.load_img(img_path, target_size=(224, 224))\n",
        "    img_tensor = image.img_to_array(img)                    # (height, width, channels)\n",
        "    img_tensor = np.expand_dims(img_tensor, axis=0)         # (1, height, width, channels), add a dimension because the model expects this shape: (batch_size, height, width, channels)\n",
        "    img_tensor /= 255.\n",
        "\n",
        "\n",
        "    return img_tensor\n",
        "\n",
        "new_image = load_image(img_path)\n",
        "\n",
        "\n",
        "preds = trained_model.predict(new_image)\n",
        "\n",
        "MaxPosition=np.argmax(preds)\n",
        "prediction_label=classes[MaxPosition]\n",
        "\n",
        "print(prediction_label)"
      ]
    }
  ],
  "metadata": {
    "colab": {
      "provenance": [],
      "include_colab_link": true
    },
    "kernelspec": {
      "display_name": "Python 3",
      "name": "python3"
    },
    "language_info": {
      "name": "python"
    }
  },
  "nbformat": 4,
  "nbformat_minor": 0
}